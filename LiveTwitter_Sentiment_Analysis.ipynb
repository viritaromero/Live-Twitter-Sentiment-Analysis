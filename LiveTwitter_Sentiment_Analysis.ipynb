{
  "nbformat": 4,
  "nbformat_minor": 0,
  "metadata": {
    "colab": {
      "name": "LiveTwitter_Sentiment_Analysis.ipynb",
      "version": "0.3.2",
      "provenance": [],
      "collapsed_sections": []
    },
    "kernelspec": {
      "name": "python3",
      "display_name": "Python 3"
    },
    "accelerator": "GPU"
  },
  "cells": [
    {
      "metadata": {
        "id": "ZU5fS7Fcs9on",
        "colab_type": "code",
        "colab": {}
      },
      "cell_type": "code",
      "source": [
        "import tweepy\n",
        "from textblob import TextBlob"
      ],
      "execution_count": 0,
      "outputs": []
    },
    {
      "metadata": {
        "id": "9kbYjhbStBaq",
        "colab_type": "code",
        "colab": {}
      },
      "cell_type": "code",
      "source": [
        "consumer_key = ''\n",
        "\n",
        "consumer_key_secret = ''\n",
        "\n",
        "access_token = ''\n",
        "\n",
        "access_token_secret = ''"
      ],
      "execution_count": 0,
      "outputs": []
    },
    {
      "metadata": {
        "id": "wpfz5SjCtWOb",
        "colab_type": "code",
        "colab": {}
      },
      "cell_type": "code",
      "source": [
        "auth = tweepy.OAuthHandler(consumer_key, consumer_key_secret)\n",
        "\n",
        "auth.set_access_token(access_token, access_token_secret)\n",
        "\n",
        "api = tweepy.API(auth)"
      ],
      "execution_count": 0,
      "outputs": []
    },
    {
      "metadata": {
        "id": "LxHGs7WItmbq",
        "colab_type": "code",
        "colab": {}
      },
      "cell_type": "code",
      "source": [
        "public_tweets = api.search('Andres Manuel López Obrador')"
      ],
      "execution_count": 0,
      "outputs": []
    },
    {
      "metadata": {
        "id": "5NFBaNA0ts4V",
        "colab_type": "code",
        "colab": {
          "base_uri": "https://localhost:8080/",
          "height": 884
        },
        "outputId": "591853d7-a452-4db2-c62f-03b879fe6906"
      },
      "cell_type": "code",
      "source": [
        "for tweet in public_tweets:\n",
        "    print(tweet.text)\n",
        "    analysis = TextBlob(tweet.text)\n",
        "    print(analysis.sentiment)\n",
        "    if analysis.sentiment[0]>0:\n",
        "       print ('Positive')\n",
        "    elif analysis.sentiment[0]<0:\n",
        "       print ('Negative')\n",
        "    else:\n",
        "       print ('Neutral')"
      ],
      "execution_count": 8,
      "outputs": [
        {
          "output_type": "stream",
          "text": [
            "RT @jose_anton: El sector empresarial demandó al Presidente Andrés Manuel López Obrador a respetar la autonomía de las instituciones, de lo…\n",
            "Sentiment(polarity=0.0, subjectivity=0.0)\n",
            "Neutral\n",
            "@SantoTlatoani Andres Manuel Lopez Obrador aún tiene erecciones.\n",
            "Sentiment(polarity=0.0, subjectivity=0.0)\n",
            "Neutral\n",
            "@GOPChairwoman @jack48731 @CoryBooker @KamalaHarris @SenGillibrand  You folks make sure you let the incoming social… https://t.co/MQERosaMuf\n",
            "Sentiment(polarity=0.5, subjectivity=0.8888888888888888)\n",
            "Positive\n",
            "Mentirasssss \"... Andrés Manuel López Obrador, se comprometió ante industriales de Concamin, a que en su gobierno e… https://t.co/0pPALBqyXP\n",
            "Sentiment(polarity=0.0, subjectivity=0.0)\n",
            "Neutral\n",
            "RT @dmills3710: Mexico’s President, Andres Manuel Lopez Obrador &amp; His Admin. Have Agreed To Close Their Border With Guatemala▫️”We solved t…\n",
            "Sentiment(polarity=0.0, subjectivity=0.0)\n",
            "Neutral\n",
            "@jesusortegam @lopezobrador_ Totalmente de acuerdo, usted si conoce al autoritario y enfermizo Manuel Andres López… https://t.co/RHLoEd6F4f\n",
            "Sentiment(polarity=0.0, subjectivity=0.0)\n",
            "Neutral\n",
            "RT @ExpresoCampeche: La Secretaría de Medio Ambiente y Recursos Naturales (Semarnat) inauguró hoy en el estado mexicano de Yucatán su nueva…\n",
            "Sentiment(polarity=0.0, subjectivity=0.0)\n",
            "Neutral\n",
            "RT @JJDiazMachuca: ESTA ES LA MANERA DE ACTUAR DE YSQ. \n",
            "@lopezobrador_ YA BASTA MEDIOCRE,  DE LO QUE HAS DIVIDIDO A LOS MEXICANOS, ESTOS AC…\n",
            "Sentiment(polarity=-0.5, subjectivity=1.0)\n",
            "Negative\n",
            "RT @SoyCarlosCesar: “Yo vivo de mis ingresos. Yo no soy rico. Soy como ustedes que viven del sueldo. Soy igual”:  Andrés Manuel López Obrad…\n",
            "Sentiment(polarity=0.0, subjectivity=0.0)\n",
            "Neutral\n",
            "RT @ExpansionMx: El presidente de México, Andrés Manuel López Obrador, dijo este viernes que la construcción del “Tren Maya\" iniciará el pr…\n",
            "Sentiment(polarity=0.0, subjectivity=0.0)\n",
            "Neutral\n",
            "RT @Reforma: Tan pronto aparece por los pasillos del Aeropuerto capitalino, el Presidente Andrés Manuel López Obrador es rodeado por decena…\n",
            "Sentiment(polarity=0.0, subjectivity=0.0)\n",
            "Neutral\n",
            "RT @Trump_VZLA: BREAKING NEWS.\n",
            "\n",
            "La Casa Blanca informo que el presidente Donald Trump converso telefónicamente con el presidente de México,…\n",
            "Sentiment(polarity=0.0, subjectivity=0.0)\n",
            "Neutral\n",
            "#Entérate Andrés Manuel López Obrador podría visitar #Escuinapa en Enero: Emmett Soto Grave\n",
            "\n",
            "Leer nota aquí 👇👇… https://t.co/6ja90z4zXc\n",
            "Sentiment(polarity=0.0, subjectivity=0.0)\n",
            "Neutral\n",
            "RT @JJDiazMachuca: ESTA ES LA MANERA DE ACTUAR DE YSQ. \n",
            "@lopezobrador_ YA BASTA MEDIOCRE,  DE LO QUE HAS DIVIDIDO A LOS MEXICANOS, ESTOS AC…\n",
            "Sentiment(polarity=-0.5, subjectivity=1.0)\n",
            "Negative\n",
            "RT @MaromasPepe: Me cuentan que en la casilla del IMER se registraron 1838484 votos para el licenciado Andrés Manuel López Obrador, 3 para…\n",
            "Sentiment(polarity=0.0, subjectivity=0.0)\n",
            "Neutral\n"
          ],
          "name": "stdout"
        }
      ]
    }
  ]
}